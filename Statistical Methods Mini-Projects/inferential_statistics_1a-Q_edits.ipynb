{
 "cells": [
  {
   "cell_type": "markdown",
   "metadata": {},
   "source": [
    "# Inferential Statistics Ia - Frequentism"
   ]
  },
  {
   "cell_type": "markdown",
   "metadata": {},
   "source": [
    "## Learning objectives"
   ]
  },
  {
   "cell_type": "markdown",
   "metadata": {},
   "source": [
    "Welcome to the first Frequentist inference mini-project! Over the course of working on this mini-project and the next frequentist mini-project, you'll learn the fundamental concepts associated with frequentist inference. The following list includes the topics you will become familiar with as you work through these two mini-projects:\n",
    "* the _z_-statistic\n",
    "* the _t_-statistic\n",
    "* the difference and relationship between the two\n",
    "* the Central Limit Theorem, including its assumptions and consequences\n",
    "* how to estimate the population mean and standard deviation from a sample\n",
    "* the concept of a sampling distribution of a test statistic, particularly for the mean\n",
    "* how to combine these concepts to calculate a confidence interval"
   ]
  },
  {
   "cell_type": "markdown",
   "metadata": {},
   "source": [
    "## Prerequisites"
   ]
  },
  {
   "cell_type": "markdown",
   "metadata": {},
   "source": [
    "For working through this notebook, you are expected to have a very basic understanding of:\n",
    "* what a random variable is\n",
    "* what a probability density function (pdf) is\n",
    "* what the cumulative density function is\n",
    "* a high-level sense of what the Normal distribution\n",
    "\n",
    "If these concepts are new to you, please take a few moments to Google these topics in order to get a sense of what they are and how you might use them.\n",
    "\n",
    "While it's great if you have previous knowledge about sampling distributions, this assignment will introduce the concept and set you up to practice working using sampling distributions. This notebook was designed to bridge the gap between having a basic understanding of probability and random variables and being able to apply these concepts in Python. The second frequentist inference mini-project focuses on a real-world application of this type of inference to give you further practice using these concepts. "
   ]
  },
  {
   "cell_type": "markdown",
   "metadata": {},
   "source": [
    "For this notebook, we will use data sampled from a known normal distribution. This allows us to compare our results with theoretical expectations."
   ]
  },
  {
   "cell_type": "markdown",
   "metadata": {},
   "source": [
    "## I An introduction to sampling from the Normal distribution"
   ]
  },
  {
   "cell_type": "markdown",
   "metadata": {},
   "source": [
    "First, let's explore the ways we can generate the Normal distribution. While there's a fair amount of interest in [sklearn](https://scikit-learn.org/stable/) within the machine learning community, you're likely to have heard of [scipy](https://docs.scipy.org/doc/scipy-0.15.1/reference/index.html) if you're coming from the sciences. For this assignment, you'll use [scipy.stats](https://docs.scipy.org/doc/scipy-0.15.1/reference/tutorial/stats.html) to complete your work."
   ]
  },
  {
   "cell_type": "code",
   "execution_count": 2,
   "metadata": {
    "collapsed": true
   },
   "outputs": [],
   "source": [
    "from scipy.stats import norm\n",
    "from scipy.stats import t\n",
    "import numpy as np\n",
    "import pandas as pd\n",
    "from numpy.random import seed\n",
    "import matplotlib.pyplot as plt"
   ]
  },
  {
   "cell_type": "markdown",
   "metadata": {},
   "source": [
    "__Q:__ Call up the doc for norm. What is the second listed method?"
   ]
  },
  {
   "cell_type": "code",
   "execution_count": 3,
   "metadata": {
    "collapsed": false
   },
   "outputs": [
    {
     "data": {
      "text/plain": [
       "['__call__',\n",
       " '__class__',\n",
       " '__delattr__',\n",
       " '__dict__',\n",
       " '__dir__',\n",
       " '__doc__',\n",
       " '__eq__',\n",
       " '__format__',\n",
       " '__ge__',\n",
       " '__getattribute__',\n",
       " '__getstate__',\n",
       " '__gt__',\n",
       " '__hash__',\n",
       " '__init__',\n",
       " '__init_subclass__',\n",
       " '__le__',\n",
       " '__lt__',\n",
       " '__module__',\n",
       " '__ne__',\n",
       " '__new__',\n",
       " '__reduce__',\n",
       " '__reduce_ex__',\n",
       " '__repr__',\n",
       " '__setattr__',\n",
       " '__setstate__',\n",
       " '__sizeof__',\n",
       " '__str__',\n",
       " '__subclasshook__',\n",
       " '__weakref__',\n",
       " '_argcheck',\n",
       " '_argcheck_rvs',\n",
       " '_cdf',\n",
       " '_cdf_single',\n",
       " '_cdfvec',\n",
       " '_construct_argparser',\n",
       " '_construct_default_doc',\n",
       " '_construct_doc',\n",
       " '_ctor_param',\n",
       " '_entropy',\n",
       " '_fit_loc_scale_support',\n",
       " '_fitstart',\n",
       " '_isf',\n",
       " '_logcdf',\n",
       " '_logpdf',\n",
       " '_logsf',\n",
       " '_mom0_sc',\n",
       " '_mom1_sc',\n",
       " '_mom_integ0',\n",
       " '_mom_integ1',\n",
       " '_munp',\n",
       " '_nnlf',\n",
       " '_nnlf_and_penalty',\n",
       " '_open_support_mask',\n",
       " '_parse_args',\n",
       " '_parse_args_rvs',\n",
       " '_parse_args_stats',\n",
       " '_pdf',\n",
       " '_penalized_nnlf',\n",
       " '_ppf',\n",
       " '_ppf_single',\n",
       " '_ppf_to_solve',\n",
       " '_ppfvec',\n",
       " '_random_state',\n",
       " '_reduce_func',\n",
       " '_rvs',\n",
       " '_sf',\n",
       " '_stats',\n",
       " '_stats_has_moments',\n",
       " '_support_mask',\n",
       " '_unpack_loc_scale',\n",
       " '_updated_ctor_param',\n",
       " 'a',\n",
       " 'b',\n",
       " 'badvalue',\n",
       " 'cdf',\n",
       " 'entropy',\n",
       " 'expect',\n",
       " 'extradoc',\n",
       " 'fit',\n",
       " 'fit_loc_scale',\n",
       " 'freeze',\n",
       " 'generic_moment',\n",
       " 'interval',\n",
       " 'isf',\n",
       " 'logcdf',\n",
       " 'logpdf',\n",
       " 'logsf',\n",
       " 'mean',\n",
       " 'median',\n",
       " 'moment',\n",
       " 'moment_type',\n",
       " 'name',\n",
       " 'nnlf',\n",
       " 'numargs',\n",
       " 'pdf',\n",
       " 'ppf',\n",
       " 'random_state',\n",
       " 'rvs',\n",
       " 'sf',\n",
       " 'shapes',\n",
       " 'stats',\n",
       " 'std',\n",
       " 'var',\n",
       " 'vecentropy',\n",
       " 'xtol']"
      ]
     },
     "execution_count": 3,
     "metadata": {},
     "output_type": "execute_result"
    }
   ],
   "source": [
    "# Call up the doc for norm here:\n",
    "dir(norm)"
   ]
  },
  {
   "cell_type": "markdown",
   "metadata": {},
   "source": [
    "__A:__"
   ]
  },
  {
   "cell_type": "markdown",
   "metadata": {},
   "source": [
    "The second listed method is: __class__"
   ]
  },
  {
   "cell_type": "markdown",
   "metadata": {},
   "source": [
    "__Q:__ Use the method that generates random variates to draw five samples from the standard normal distribution."
   ]
  },
  {
   "cell_type": "markdown",
   "metadata": {},
   "source": [
    "__A:__"
   ]
  },
  {
   "cell_type": "code",
   "execution_count": 4,
   "metadata": {
    "collapsed": false
   },
   "outputs": [
    {
     "data": {
      "text/plain": [
       "array([-0.84800948,  1.30590636,  0.92420797,  0.6404118 , -1.05473698])"
      ]
     },
     "execution_count": 4,
     "metadata": {},
     "output_type": "execute_result"
    }
   ],
   "source": [
    "seed(47)\n",
    "# draw five samples here\n",
    "five_var = norm.rvs(size = 5)\n",
    "five_var"
   ]
  },
  {
   "cell_type": "markdown",
   "metadata": {},
   "source": [
    "__Q:__ What is the mean of this sample? Is it exactly equal to the value you expected? Hint: the sample was drawn from the standard normal distribution."
   ]
  },
  {
   "cell_type": "markdown",
   "metadata": {},
   "source": [
    "__A:__"
   ]
  },
  {
   "cell_type": "code",
   "execution_count": 5,
   "metadata": {
    "collapsed": false
   },
   "outputs": [
    {
     "data": {
      "text/plain": [
       "0.19355593334131074"
      ]
     },
     "execution_count": 5,
     "metadata": {},
     "output_type": "execute_result"
    }
   ],
   "source": [
    "# Calculate and print the mean here, hint: use np.mean()\n",
    "np.mean(five_var)"
   ]
  },
  {
   "cell_type": "markdown",
   "metadata": {},
   "source": [
    "No, the expected value of the mean of the standard normal distribution is zero."
   ]
  },
  {
   "cell_type": "markdown",
   "metadata": {},
   "source": [
    "__Q:__ What is the standard deviation of these numbers? Calculate this manually here as $\\sqrt{\\frac{\\sum_i(x_i - \\bar{x})^2}{n}}$. Hint: np.sqrt() and np.sum() will be useful here and remember that numpy supports [broadcasting](https://docs.scipy.org/doc/numpy/user/basics.broadcasting.html)."
   ]
  },
  {
   "cell_type": "markdown",
   "metadata": {},
   "source": [
    "__A:__"
   ]
  },
  {
   "cell_type": "code",
   "execution_count": 6,
   "metadata": {
    "collapsed": false
   },
   "outputs": [
    {
     "data": {
      "text/plain": [
       "0.96061956394786407"
      ]
     },
     "execution_count": 6,
     "metadata": {},
     "output_type": "execute_result"
    }
   ],
   "source": [
    "np.sqrt(np.sum((np.mean(five_var) - five_var)**2)/len(five_var))"
   ]
  },
  {
   "cell_type": "markdown",
   "metadata": {},
   "source": [
    "Here we have calculated the actual standard deviation of a small (size 5) data set. But in this case, this small data set is actually a sample from our larger (infinite) population. The population in this case is infinite because we could keep drawing our normal random variates until our computers died.\n",
    "\n",
    "__Q:__ If all we had to go on was our five samples, what would be our best estimate of the population standard deviation? This is where we use Bessel's correction (the $n-1$ in the denominator), thus $\\sqrt{\\frac{\\sum_i(x_i - \\bar{x})^2}{n-1}}$."
   ]
  },
  {
   "cell_type": "markdown",
   "metadata": {},
   "source": [
    "__A:__"
   ]
  },
  {
   "cell_type": "code",
   "execution_count": 7,
   "metadata": {
    "collapsed": false
   },
   "outputs": [
    {
     "data": {
      "text/plain": [
       "1.0740053227518152"
      ]
     },
     "execution_count": 7,
     "metadata": {},
     "output_type": "execute_result"
    }
   ],
   "source": [
    "np.sqrt(np.sum((np.mean(five_var) - five_var)**2)/(len(five_var) - 1))"
   ]
  },
  {
   "cell_type": "markdown",
   "metadata": {},
   "source": [
    "__Q:__ Now use numpy's std function to calculate the standard deviation of our random samples. Which of the above standard deviations did it return?"
   ]
  },
  {
   "cell_type": "markdown",
   "metadata": {},
   "source": [
    "__A:__"
   ]
  },
  {
   "cell_type": "code",
   "execution_count": 8,
   "metadata": {
    "collapsed": false
   },
   "outputs": [
    {
     "data": {
      "text/plain": [
       "0.96061956394786407"
      ]
     },
     "execution_count": 8,
     "metadata": {},
     "output_type": "execute_result"
    }
   ],
   "source": [
    "np.std(five_var)"
   ]
  },
  {
   "cell_type": "markdown",
   "metadata": {},
   "source": [
    "The std function returned the first std (denominator n) value."
   ]
  },
  {
   "cell_type": "markdown",
   "metadata": {},
   "source": []
  },
  {
   "cell_type": "markdown",
   "metadata": {},
   "source": [
    "__Q:__ Consult the documentation for np.std() to see how to apply the correction for estimating the population parameter and verify this produces the expected result."
   ]
  },
  {
   "cell_type": "markdown",
   "metadata": {},
   "source": [
    "__A:__"
   ]
  },
  {
   "cell_type": "code",
   "execution_count": 9,
   "metadata": {
    "collapsed": false
   },
   "outputs": [],
   "source": [
    "#help(np.std)"
   ]
  },
  {
   "cell_type": "code",
   "execution_count": 10,
   "metadata": {
    "collapsed": false
   },
   "outputs": [
    {
     "data": {
      "text/plain": [
       "1.0740053227518152"
      ]
     },
     "execution_count": 10,
     "metadata": {},
     "output_type": "execute_result"
    }
   ],
   "source": [
    "np.std(five_var, ddof=1)"
   ]
  },
  {
   "cell_type": "markdown",
   "metadata": {},
   "source": [
    "### Summary of section"
   ]
  },
  {
   "cell_type": "markdown",
   "metadata": {},
   "source": [
    "In this section you've been introduced to the scipy.stats package and used it to draw a small sample from the standard normal distribution. You've calculated the average (the mean) of this sample and seen that this is not exactly equal to the expected population parameter (which we know because we're generating the random variates from a specific, known distribution). You've been introduced to two ways of calculating the standard deviation; one uses $n$ in the denominator and the other uses $n-1$ (Bessel's correction). You've also seen which of these calculations np.std() performs by default and how to get it to generate the other."
   ]
  },
  {
   "cell_type": "markdown",
   "metadata": {},
   "source": [
    "You use $n$ as the denominator if you want to calculate the standard deviation of a sequence of numbers. You use $n-1$ if you are using this sequence of numbers to estimate the population parameter. This brings us to some terminology that can be a little confusing.\n",
    "\n",
    "The population parameter is traditionally written as $\\sigma$ and the sample statistic as $s$. Rather unhelpfully, $s$ is also called the sample standard deviation (using $n-1$) whereas the standard deviation of the sample uses $n$. You've read that correctly — we have the sample standard deviation and the standard deviation of the sample and they're not the same thing! \n",
    "\n",
    "The sample standard deviation\n",
    "\\begin{equation}\n",
    "s = \\sqrt{\\frac{\\sum_i(x_i - \\bar{x})^2}{n-1}} \\approx \\sigma,\n",
    "\\end{equation}\n",
    "is our best (unbiased) estimate of the population parameter ($\\sigma$).\n",
    "\n",
    "If your data set _is_ your entire population, you simply want to calculate the population parameter, $\\sigma$, via\n",
    "\\begin{equation}\n",
    "\\sigma = \\sqrt{\\frac{\\sum_i(x_i - \\bar{x})^2}{n}}\n",
    "\\end{equation}\n",
    "as you have complete, full knowledge of your population. In other words, your sample _is_ your population. It's worth noting at this point if your sample is your population then you know absolutely everything about your population, there are no probabilities really to calculate and no inference to be done.\n",
    "\n",
    "If, however, you have sampled _from_ your population, you only have partial knowledge of the state of your population and the standard deviation of your sample is not an unbiased estimate of the standard deviation of the population, in which case you can estimate that population parameter via the sample standard deviation, which uses the $n-1$ denominator."
   ]
  },
  {
   "cell_type": "markdown",
   "metadata": {},
   "source": [
    "You're now firmly in frequentist theory territory. Great work so far! Now let's dive deeper."
   ]
  },
  {
   "cell_type": "markdown",
   "metadata": {},
   "source": [
    "## II Sampling distributions"
   ]
  },
  {
   "cell_type": "markdown",
   "metadata": {},
   "source": [
    "So far we've been dealing with the concept of taking a sample from a population to infer the population parameters. One statistic we calculated for a sample was the mean. As our samples will be expected to vary from one draw to another, so will our sample statistics. If we were to perform repeat draws of size $n$ and calculate the mean of each, we would expect to obtain a distribution of values. This is the sampling distribution of the mean. The Central Limit Theorem (CLT) tells us that such a distribution will approach a normal distribution as $n$ increases. For the sampling distribution of the mean, the standard deviation of this distribution is given by\n",
    "\n",
    "\\begin{equation}\n",
    "\\sigma_{mean} = \\frac{\\sigma}{\\sqrt n}\n",
    "\\end{equation}\n",
    "\n",
    "where $\\sigma_{mean}$ is the standard deviation of the sampling distribution of the mean and $\\sigma$ is the standard deviation of the population (the population parameter)."
   ]
  },
  {
   "cell_type": "markdown",
   "metadata": {},
   "source": [
    "This is important because typically we are dealing with samples from populations and all we know about the population is what we have in the sample. From this sample we wish to make inferences about the population. We may do this, for example, by looking at the histogram of the values and by calculating the mean and standard deviation (as estimates of the population parameters), and so we are intrinsically interested in how these quantities vary across samples. In other words, having taken one sample of size $n$ and made some claims about the general population, what if we were to take another sample of size $n$? Would we get the same result? Would we make the same claims about the general population? This brings us to a fundamental question: _when we make some inference about a population based on our sample, how confident can we be that we've got it 'right'?_"
   ]
  },
  {
   "cell_type": "markdown",
   "metadata": {},
   "source": [
    "Let's give our normal distribution a little flavor. Also, for didactic purposes, the standard normal distribution, with its variance equal to its standard deviation of one would not be a great illustration of a key point. Let us imagine we live in a town of 50000 people and we know the height of everyone in this town. We will have 50000 numbers that tell us everything about our population. We'll simulate these numbers now and put ourselves in one particular town, called 'town 47', where the population mean height is 172 cm and population standard deviation is 5 cm."
   ]
  },
  {
   "cell_type": "code",
   "execution_count": 11,
   "metadata": {
    "collapsed": true
   },
   "outputs": [],
   "source": [
    "seed(47)\n",
    "pop_heights = norm.rvs(172, 5, size=50000)"
   ]
  },
  {
   "cell_type": "code",
   "execution_count": 12,
   "metadata": {
    "collapsed": false
   },
   "outputs": [
    {
     "data": {
      "image/png": "[encoded data removed]",
      "text/plain": [
       "<matplotlib.figure.Figure at 0x1d8c84c99b0>"
      ]
     },
     "metadata": {},
     "output_type": "display_data"
    }
   ],
   "source": [
    "_ = plt.hist(pop_heights, bins=30)\n",
    "_ = plt.xlabel('height (cm)')\n",
    "_ = plt.ylabel('number of people')\n",
    "_ = plt.title('Distribution of heights in entire town population')\n",
    "_ = plt.axvline(172, color='r')\n",
    "_ = plt.axvline(172+5, color='r', linestyle='--')\n",
    "_ = plt.axvline(172-5, color='r', linestyle='--')\n",
    "_ = plt.axvline(172+10, color='r', linestyle='-.')\n",
    "_ = plt.axvline(172-10, color='r', linestyle='-.')\n",
    "\n",
    "plt.show()"
   ]
  },
  {
   "cell_type": "markdown",
   "metadata": {},
   "source": [
    "Now, 50000 people is rather a lot to chase after with a tape measure. If all you want to know is the average height of the townsfolk, then can you just go out and measure a sample to get a pretty good estimate of the average height?"
   ]
  },
  {
   "cell_type": "code",
   "execution_count": 13,
   "metadata": {
    "collapsed": true
   },
   "outputs": [],
   "source": [
    "def townsfolk_sampler(n):\n",
    "    return np.random.choice(pop_heights, n)"
   ]
  },
  {
   "cell_type": "markdown",
   "metadata": {},
   "source": [
    "Let's say you go out one day and randomly sample 10 people to measure."
   ]
  },
  {
   "cell_type": "code",
   "execution_count": 14,
   "metadata": {
    "collapsed": false
   },
   "outputs": [],
   "source": [
    "seed(47)\n",
    "daily_sample1 = townsfolk_sampler(10)"
   ]
  },
  {
   "cell_type": "code",
   "execution_count": 15,
   "metadata": {
    "collapsed": false
   },
   "outputs": [
    {
     "data": {
      "image/png": "[encoded data removed]",
      "text/plain": [
       "<matplotlib.figure.Figure at 0x1d8c84c9208>"
      ]
     },
     "metadata": {},
     "output_type": "display_data"
    }
   ],
   "source": [
    "_ = plt.hist(daily_sample1, bins=10)\n",
    "_ = plt.xlabel('height (cm)')\n",
    "_ = plt.ylabel('number of people')\n",
    "_ = plt.title('Distribution of heights in sample size 10')\n",
    "plt.show()"
   ]
  },
  {
   "cell_type": "markdown",
   "metadata": {},
   "source": [
    "The sample distribution doesn't look much like what we know (but wouldn't know in real-life) the population distribution looks like. What do we get for the mean?"
   ]
  },
  {
   "cell_type": "code",
   "execution_count": 16,
   "metadata": {
    "collapsed": true
   },
   "outputs": [],
   "source": [
    "import numpy as np"
   ]
  },
  {
   "cell_type": "code",
   "execution_count": 17,
   "metadata": {
    "collapsed": false
   },
   "outputs": [
    {
     "data": {
      "text/plain": [
       "173.47911444163503"
      ]
     },
     "execution_count": 17,
     "metadata": {},
     "output_type": "execute_result"
    }
   ],
   "source": [
    "np.mean(daily_sample1)"
   ]
  },
  {
   "cell_type": "markdown",
   "metadata": {},
   "source": [
    "And if we went out and repeated this experiment?"
   ]
  },
  {
   "cell_type": "code",
   "execution_count": 18,
   "metadata": {
    "collapsed": true
   },
   "outputs": [],
   "source": [
    "daily_sample2 = townsfolk_sampler(10)"
   ]
  },
  {
   "cell_type": "code",
   "execution_count": 19,
   "metadata": {
    "collapsed": false
   },
   "outputs": [
    {
     "data": {
      "text/plain": [
       "173.7317666636263"
      ]
     },
     "execution_count": 19,
     "metadata": {},
     "output_type": "execute_result"
    }
   ],
   "source": [
    "np.mean(daily_sample2)"
   ]
  },
  {
   "cell_type": "markdown",
   "metadata": {},
   "source": [
    "__Q:__ Simulate performing this random trial every day for a year, calculating the mean of each daily sample of 10, and plot the resultant sampling distribution of the mean."
   ]
  },
  {
   "cell_type": "markdown",
   "metadata": {},
   "source": [
    "__A:__"
   ]
  },
  {
   "cell_type": "code",
   "execution_count": 20,
   "metadata": {
    "collapsed": true
   },
   "outputs": [],
   "source": [
    "import numpy as np"
   ]
  },
  {
   "cell_type": "code",
   "execution_count": 21,
   "metadata": {
    "collapsed": false
   },
   "outputs": [
    {
     "data": {
      "text/plain": [
       "[173.47911444163503,\n",
       " 173.7317666636263,\n",
       " 172.54893867276104,\n",
       " 171.43257319553967,\n",
       " 172.7151613148319,\n",
       " 172.82799509412092,\n",
       " 172.72104620090087,\n",
       " 171.35684251559897,\n",
       " 172.06082915612325,\n",
       " 175.02116165843373,\n",
       " 172.87297442836729,\n",
       " 173.10695709894807,\n",
       " 174.28251319331625,\n",
       " 172.16799412617846,\n",
       " 172.2677166306168,\n",
       " 174.11487595110879,\n",
       " 173.76989560652873,\n",
       " 173.53587661697912,\n",
       " 171.73109636549412,\n",
       " 173.61929335211181,\n",
       " 171.41227032311491,\n",
       " 169.8912622859572,\n",
       " 171.50855064552047,\n",
       " 170.79777102526515,\n",
       " 172.13293591535268,\n",
       " 174.04237966386012,\n",
       " 171.41699712312001,\n",
       " 169.68751210980005,\n",
       " 170.70138979236123,\n",
       " 170.50288822335273,\n",
       " 171.12273358078659,\n",
       " 172.18184913764566,\n",
       " 172.68945746436543,\n",
       " 171.0001004904461,\n",
       " 170.89451146667253,\n",
       " 171.09020297014567,\n",
       " 171.25533609966612,\n",
       " 172.10797845540236,\n",
       " 171.08827013545948,\n",
       " 172.65135312309991,\n",
       " 175.07068980542701,\n",
       " 169.97597644140453,\n",
       " 172.2797674841427,\n",
       " 169.68001261485807,\n",
       " 172.80409332096238,\n",
       " 172.55229420480956,\n",
       " 173.83054118621465,\n",
       " 173.37568836233626,\n",
       " 171.89359355779794,\n",
       " 171.66657422122759,\n",
       " 169.90047438761511,\n",
       " 172.72984382291025,\n",
       " 169.46043079819069,\n",
       " 171.90668834581379,\n",
       " 174.31024504533102,\n",
       " 172.95492365849361,\n",
       " 170.26013472404284,\n",
       " 171.62782407697222,\n",
       " 171.93287814147618,\n",
       " 172.67107823125573,\n",
       " 173.35560534761376,\n",
       " 171.59289235138519,\n",
       " 174.01996330433786,\n",
       " 168.70526103039566,\n",
       " 174.42915449324849,\n",
       " 172.99782989083792,\n",
       " 169.85679627411287,\n",
       " 170.51072224889845,\n",
       " 169.90321605710665,\n",
       " 170.15223960286718,\n",
       " 171.69847097209998,\n",
       " 172.1247564115574,\n",
       " 170.73934213796531,\n",
       " 169.41839477790899,\n",
       " 172.90126387627427,\n",
       " 173.349965975603,\n",
       " 172.31408857482649,\n",
       " 170.95008031433505,\n",
       " 168.6026063397666,\n",
       " 169.23740477644245,\n",
       " 168.98395307845203,\n",
       " 170.24977041291908,\n",
       " 172.28866881866844,\n",
       " 169.49549010134379,\n",
       " 172.14048141305437,\n",
       " 170.63029872192917,\n",
       " 170.81450578452282,\n",
       " 172.7564010423859,\n",
       " 172.270704952318,\n",
       " 172.75102003444198,\n",
       " 170.29337424391514,\n",
       " 171.37511929823515,\n",
       " 171.19824057530133,\n",
       " 175.6782843800554,\n",
       " 169.98345772406594,\n",
       " 171.97617797193666,\n",
       " 170.56013527190584,\n",
       " 171.50909868435141,\n",
       " 172.75712339394886,\n",
       " 173.20951148327771,\n",
       " 172.10653392996448,\n",
       " 173.14812711662768,\n",
       " 170.10688635551668,\n",
       " 173.37578430138279,\n",
       " 172.13932694636631,\n",
       " 169.68126101129226,\n",
       " 173.51940617466894,\n",
       " 170.64933192553676,\n",
       " 172.93026067919979,\n",
       " 171.55990939669806,\n",
       " 171.92304718402258,\n",
       " 173.64455234145223,\n",
       " 171.97230993627605,\n",
       " 171.41392942304259,\n",
       " 173.09648158348617,\n",
       " 171.59077758086715,\n",
       " 172.02580024296842,\n",
       " 172.21608501143896,\n",
       " 172.00719346111319,\n",
       " 172.33599701625351,\n",
       " 171.028648188148,\n",
       " 173.37309659230391,\n",
       " 171.63339660555894,\n",
       " 172.24280703841163,\n",
       " 170.96259686809128,\n",
       " 175.03094575416975,\n",
       " 173.6428041806974,\n",
       " 172.95723098557428,\n",
       " 171.9821148360482,\n",
       " 172.86230119411863,\n",
       " 173.28189592917619,\n",
       " 170.74391386736906,\n",
       " 171.85618466569377,\n",
       " 174.51640492930801,\n",
       " 171.9757816604739,\n",
       " 172.85323568792731,\n",
       " 170.88633478960389,\n",
       " 172.02699101055003,\n",
       " 171.00702877519421,\n",
       " 174.46684086386071,\n",
       " 167.84829287083721,\n",
       " 170.87326329719744,\n",
       " 172.24076331599596,\n",
       " 174.06036645523105,\n",
       " 173.65199868699432,\n",
       " 171.31020238919996,\n",
       " 172.87577177514339,\n",
       " 169.00973760863025,\n",
       " 169.36066339463133,\n",
       " 172.8394581127686,\n",
       " 173.28494908767249,\n",
       " 167.94708299375463,\n",
       " 171.49448137605279,\n",
       " 173.26676195725375,\n",
       " 174.36603867262343,\n",
       " 169.3835107781193,\n",
       " 170.81702577580646,\n",
       " 172.65881074097973,\n",
       " 170.5043935231086,\n",
       " 174.48530539837125,\n",
       " 169.28374480528095,\n",
       " 173.11587199242774,\n",
       " 169.48869927808207,\n",
       " 174.05802462897157,\n",
       " 170.41037396562533,\n",
       " 170.38508327621011,\n",
       " 171.14614333175618,\n",
       " 171.28870072653964,\n",
       " 172.76671420430083,\n",
       " 169.95471759650735,\n",
       " 172.86382182013728,\n",
       " 172.62255113735591,\n",
       " 172.33656268781826,\n",
       " 168.62332166556928,\n",
       " 172.7111357521249,\n",
       " 171.82186352481727,\n",
       " 173.28085693950445,\n",
       " 169.06595378147523,\n",
       " 174.08013924119331,\n",
       " 174.97733492559479,\n",
       " 171.28213572811805,\n",
       " 171.67308135924171,\n",
       " 169.45634682144438,\n",
       " 173.43393215657332,\n",
       " 170.86374559269453,\n",
       " 173.21556904620837,\n",
       " 169.1862678724352,\n",
       " 171.20026812399502,\n",
       " 171.47106714440469,\n",
       " 173.32428817479482,\n",
       " 171.26916949374089,\n",
       " 169.74157082970493,\n",
       " 172.91823143229223,\n",
       " 171.78081907440483,\n",
       " 170.11860847293156,\n",
       " 171.87026079537708,\n",
       " 170.74069830935466,\n",
       " 172.46488874903895,\n",
       " 172.98225023418647,\n",
       " 174.46081103471732,\n",
       " 173.49400936370455,\n",
       " 169.51557464300683,\n",
       " 171.73063129611373,\n",
       " 170.71693533360309,\n",
       " 174.66020485767729,\n",
       " 172.38497801854911,\n",
       " 172.79482744498335,\n",
       " 172.66798523120897,\n",
       " 173.03683236655385,\n",
       " 169.03388574785288,\n",
       " 170.27625725905142,\n",
       " 171.6548397802826,\n",
       " 173.9110065626827,\n",
       " 172.36666043469813,\n",
       " 173.08067860484891,\n",
       " 170.54543211143979,\n",
       " 171.63218644552478,\n",
       " 173.75734815005714,\n",
       " 173.4663602192376,\n",
       " 173.93185477413437,\n",
       " 172.21851080918435,\n",
       " 174.99259084185877,\n",
       " 172.79446184726748,\n",
       " 171.51052052455086,\n",
       " 173.24255009028505,\n",
       " 171.8830523292385,\n",
       " 172.78335534863947,\n",
       " 171.91694787219325,\n",
       " 170.12924519370299,\n",
       " 171.6125036310404,\n",
       " 172.90245069941636,\n",
       " 173.09703321285585,\n",
       " 172.13187273881533,\n",
       " 173.16713943468841,\n",
       " 170.08389854480225,\n",
       " 173.93739863468136,\n",
       " 171.38318019353829,\n",
       " 173.06487921454681,\n",
       " 171.67286845324548,\n",
       " 172.74454332610662,\n",
       " 170.29325491672353,\n",
       " 168.50440626366915,\n",
       " 172.52943025832766,\n",
       " 168.22985199166658,\n",
       " 173.63375684095035,\n",
       " 173.8223904901435,\n",
       " 170.64928888578683,\n",
       " 171.78032897272959,\n",
       " 169.31058690937567,\n",
       " 170.90044256609488,\n",
       " 172.67827045507593,\n",
       " 172.0422309421312,\n",
       " 173.17659183674408,\n",
       " 169.49895501607463,\n",
       " 172.88536840434841,\n",
       " 173.39826719584681,\n",
       " 169.67183447236411,\n",
       " 169.34348126325409,\n",
       " 175.16317038838511,\n",
       " 170.59481340389107,\n",
       " 170.58426243494063,\n",
       " 172.72334025117496,\n",
       " 172.13078881430329,\n",
       " 169.01609630447473,\n",
       " 171.15681558897592,\n",
       " 174.684931280434,\n",
       " 169.29446475103575,\n",
       " 171.65686646102714,\n",
       " 173.81720973451539,\n",
       " 170.72391555094927,\n",
       " 170.51592674464831,\n",
       " 174.09262586459249,\n",
       " 168.74354262686796,\n",
       " 171.60449755276952,\n",
       " 173.35249290348906,\n",
       " 169.59524622005407,\n",
       " 172.31825115793964,\n",
       " 173.43051530494725,\n",
       " 175.97945459508188,\n",
       " 172.41542957870462,\n",
       " 172.48108913345823,\n",
       " 175.73235560113446,\n",
       " 173.30917671705808,\n",
       " 170.50163071741281,\n",
       " 171.47442800822694,\n",
       " 172.92111630370101,\n",
       " 171.1639042540142,\n",
       " 173.15958685889186,\n",
       " 170.61994641947149,\n",
       " 170.84177739176616,\n",
       " 171.99038709269252,\n",
       " 174.23130175705404,\n",
       " 170.48550604935161,\n",
       " 172.02085224658146,\n",
       " 172.08650337240257,\n",
       " 173.12384811687497,\n",
       " 170.09817772721084,\n",
       " 171.47145870677849,\n",
       " 172.78753151796303,\n",
       " 172.85937740574727,\n",
       " 169.39067373385993,\n",
       " 172.88433436767303,\n",
       " 172.09661414856313,\n",
       " 172.27425697400423,\n",
       " 170.71145485915241,\n",
       " 172.19296597942235,\n",
       " 167.52865965907253,\n",
       " 172.32570464261443,\n",
       " 172.72742669079858,\n",
       " 172.52169571741979,\n",
       " 172.05940736419612,\n",
       " 168.87716481882219,\n",
       " 170.44810196307384,\n",
       " 173.01149455582384,\n",
       " 172.52292732563117,\n",
       " 169.7669347411906,\n",
       " 169.46540233152601,\n",
       " 173.02223016664223,\n",
       " 170.27061511503928,\n",
       " 171.18421420659692,\n",
       " 173.06750477700962,\n",
       " 173.43258352486112,\n",
       " 171.82939845035773,\n",
       " 170.92672944980677,\n",
       " 169.81785832026858,\n",
       " 171.92871073981357,\n",
       " 170.34135388864743,\n",
       " 169.05442315458353,\n",
       " 172.84601765466334,\n",
       " 171.73522189318317,\n",
       " 169.21238118797939,\n",
       " 172.29730173923366,\n",
       " 169.99961438919348,\n",
       " 170.02830791269838,\n",
       " 171.75064789746975,\n",
       " 170.766935167691,\n",
       " 173.98100266501271,\n",
       " 169.92358516806348,\n",
       " 174.53205578998305,\n",
       " 173.21890262201072,\n",
       " 174.25370792104414,\n",
       " 172.91850748641357,\n",
       " 172.6887688830941,\n",
       " 172.064319088991,\n",
       " 169.88770099269323,\n",
       " 171.46079489790765,\n",
       " 171.48307828152147,\n",
       " 172.59879898682084,\n",
       " 172.37504542447692,\n",
       " 168.70639919115436,\n",
       " 172.76066642690037,\n",
       " 171.66341854902359,\n",
       " 173.98434386877807,\n",
       " 171.42827851034042,\n",
       " 171.77118445785496,\n",
       " 169.17922506646468,\n",
       " 173.78289554660699,\n",
       " 170.82035700816542,\n",
       " 170.98291389030948,\n",
       " 172.02218170287054,\n",
       " 173.20080178649226,\n",
       " 172.85589043208137,\n",
       " 171.9024897421873,\n",
       " 170.45743937442882,\n",
       " 171.64487927395743]"
      ]
     },
     "execution_count": 21,
     "metadata": {},
     "output_type": "execute_result"
    }
   ],
   "source": [
    "seed(47)\n",
    "# take your samples here\n",
    "ten_samples = []\n",
    "for x in range(365):\n",
    "    ten_samples.append(np.mean(townsfolk_sampler(10)))\n",
    "ten_samples"
   ]
  },
  {
   "cell_type": "code",
   "execution_count": 22,
   "metadata": {
    "collapsed": false
   },
   "outputs": [
    {
     "data": {
      "image/png": "[encoded data removed]",
      "text/plain": [
       "<matplotlib.figure.Figure at 0x1d8c8a6a390>"
      ]
     },
     "metadata": {},
     "output_type": "display_data"
    }
   ],
   "source": [
    "plt.hist(ten_samples)\n",
    "plt.xlabel('mean height of sample (cm)')\n",
    "plt.ylabel('number of people')\n",
    "plt.show()"
   ]
  },
  {
   "cell_type": "markdown",
   "metadata": {},
   "source": [
    "The above is the distribution of the means of samples of size 10 taken from our population. The Central Limit Theorem tells us the expected mean of this distribution will be equal to the population mean, and standard deviation will be $\\sigma / \\sqrt n$, which, in this case, should be approximately 1.58."
   ]
  },
  {
   "cell_type": "markdown",
   "metadata": {},
   "source": [
    "__Q:__ Verify the above results from the CLT."
   ]
  },
  {
   "cell_type": "markdown",
   "metadata": {},
   "source": [
    "__A:__"
   ]
  },
  {
   "cell_type": "code",
   "execution_count": 23,
   "metadata": {
    "collapsed": false
   },
   "outputs": [
    {
     "data": {
      "text/plain": [
       "1.5811388300841895"
      ]
     },
     "execution_count": 23,
     "metadata": {},
     "output_type": "execute_result"
    }
   ],
   "source": [
    "# using CLT equation above for standard deviation of 5 cm, size 10\n",
    "std = 5 / np.sqrt(10)\n",
    "std"
   ]
  },
  {
   "cell_type": "code",
   "execution_count": 59,
   "metadata": {
    "collapsed": false
   },
   "outputs": [
    {
     "data": {
      "text/plain": [
       "1.5778333114768472"
      ]
     },
     "execution_count": 59,
     "metadata": {},
     "output_type": "execute_result"
    }
   ],
   "source": [
    "# standard deviation of means of samples\n",
    "np.std(ten_samples, ddof=1)"
   ]
  },
  {
   "cell_type": "markdown",
   "metadata": {},
   "source": [
    "Remember, here we knew our population parameters, that the average height really is 172 cm and the standard deviation 5 cm, and we see some of our daily estimates of the population mean were as low as around 168 and some as high as 176."
   ]
  },
  {
   "cell_type": "markdown",
   "metadata": {},
   "source": [
    "__Q:__ Repeat the above year's worth of samples but for a sample size of 50 (perhaps you had a bigger budget for conducting surveys that year!) Would you expect your distribution of sample means to be wider (more variable) or narrower (more consistent)? Compare your resultant summary statistics to those predicted by the CLT."
   ]
  },
  {
   "cell_type": "markdown",
   "metadata": {},
   "source": [
    "__A:__"
   ]
  },
  {
   "cell_type": "code",
   "execution_count": 26,
   "metadata": {
    "collapsed": false
   },
   "outputs": [
    {
     "data": {
      "image/png": "[encoded data removed]",
      "text/plain": [
       "<matplotlib.figure.Figure at 0x1d8c8a1e940>"
      ]
     },
     "metadata": {},
     "output_type": "display_data"
    }
   ],
   "source": [
    "seed(47)\n",
    "# calculate daily means from the larger sample size here\n",
    "fifty_samples = []\n",
    "for x in range(365):\n",
    "    fifty_samples.append(np.mean(townsfolk_sampler(50)))\n",
    "    \n",
    "plt.hist(fifty_samples)\n",
    "plt.xlabel('mean height of sample (cm)')\n",
    "plt.ylabel('number of people')\n",
    "plt.show()"
   ]
  },
  {
   "cell_type": "markdown",
   "metadata": {},
   "source": []
  },
  {
   "cell_type": "code",
   "execution_count": 55,
   "metadata": {
    "collapsed": false
   },
   "outputs": [
    {
     "name": "stdout",
     "output_type": "stream",
     "text": [
      "0.707106781187\n",
      "0.674535408845\n"
     ]
    }
   ],
   "source": [
    "# for CLT:\n",
    "clt_std = 5/np.sqrt(50)\n",
    "# std of means of samples\n",
    "std = np.std(fifty_samples, ddof=1)\n",
    "\n",
    "print(clt_std)\n",
    "print(std)"
   ]
  },
  {
   "cell_type": "markdown",
   "metadata": {},
   "source": [
    "What we've seen so far, then, is that we can estimate population parameters from a sample from the population, and that samples have their own distributions. Furthermore, the larger the sample size, the narrower are those sampling distributions."
   ]
  },
  {
   "cell_type": "markdown",
   "metadata": {},
   "source": [
    "### III Normally testing times!"
   ]
  },
  {
   "cell_type": "markdown",
   "metadata": {},
   "source": [
    "All of the above is well and good. We've been sampling from a population we know is normally distributed, we've come to understand when to use $n$ and when to use $n-1$ in the denominator to calculate the spread of a distribution, and we've  seen the Central Limit Theorem in action for a sampling distribution. All seems very well behaved in Frequentist land. But, well, why should you really care?"
   ]
  },
  {
   "cell_type": "markdown",
   "metadata": {},
   "source": [
    "Remember, you'll rarely (if ever) actually know your population parameters, but you still have to estimate them somehow. If you want to make inferences such as \"is this observation unusual?\" or \"has my population mean changed?\" then you need to have some idea what the underlying distribution is so you can calculate relevant probabilities. In Frequentist inference, you use the formulas as above to deduce these population parameters. Take a moment in the next part of this assignment to refresh your understanding of how these probabilities work."
   ]
  },
  {
   "cell_type": "markdown",
   "metadata": {},
   "source": [
    "Recall some of the basic properties of the standard Normal distribution, such as about 68% of observations being within plus or minus 1 standard deviation of the mean.\n",
    "\n",
    "__Q:__ Using this fact, calculate the probability of observing the value 1 or less in a single observation from the standard normal distribution."
   ]
  },
  {
   "cell_type": "markdown",
   "metadata": {},
   "source": [
    "__A:__ Z-score of 1: .8413"
   ]
  },
  {
   "cell_type": "markdown",
   "metadata": {},
   "source": [
    "Calculating this probability involved calculating the area under the pdf from the value of 1 and below. To put it another way, we need to integrate the pdf. We could just add together the known areas of chunks (from -Inf to 0 and then 0 to $+\\sigma$ in the example above. One way to do this is using look up tables (literally). Fortunately, scipy has this functionality built in with the cdf() function."
   ]
  },
  {
   "cell_type": "markdown",
   "metadata": {},
   "source": [
    "__Q:__ Use the cdf() function to answer the question above again and verify you get the same answer."
   ]
  },
  {
   "cell_type": "markdown",
   "metadata": {},
   "source": [
    "__A:__"
   ]
  },
  {
   "cell_type": "code",
   "execution_count": 29,
   "metadata": {
    "collapsed": false
   },
   "outputs": [
    {
     "data": {
      "text/plain": [
       "0.84134474606854293"
      ]
     },
     "execution_count": 29,
     "metadata": {},
     "output_type": "execute_result"
    }
   ],
   "source": [
    "norm.cdf(1)"
   ]
  },
  {
   "cell_type": "markdown",
   "metadata": {},
   "source": [
    "__Q:__ Using our knowledge of the population parameters for our townsfolk's heights, what is the probability of selecting one person at random and their height being 177 cm or less? Calculate this using both of the approaches given above."
   ]
  },
  {
   "cell_type": "markdown",
   "metadata": {},
   "source": [
    "__A:__"
   ]
  },
  {
   "cell_type": "code",
   "execution_count": 56,
   "metadata": {
    "collapsed": false
   },
   "outputs": [
    {
     "data": {
      "text/plain": [
       "0.84134474606854293"
      ]
     },
     "execution_count": 56,
     "metadata": {},
     "output_type": "execute_result"
    }
   ],
   "source": [
    "# 172 (mean) + 5 (standard deviation) = 177 (so +1 standard deviation) or less, which equates to zscore of 1, = .8413\n",
    "norm.cdf((177-172)/5)"
   ]
  },
  {
   "cell_type": "markdown",
   "metadata": {},
   "source": [
    "__Q:__ Turning this question around. Let's say we randomly pick one person and measure their height and find they are 2.00 m tall? How surprised should we be at this result, given what we know about the population distribution? In other words, how likely would it be to obtain a value at least as extreme as this? Express this as a probability."
   ]
  },
  {
   "cell_type": "markdown",
   "metadata": {},
   "source": [
    "__A:__"
   ]
  },
  {
   "cell_type": "code",
   "execution_count": 58,
   "metadata": {
    "collapsed": false
   },
   "outputs": [
    {
     "name": "stdout",
     "output_type": "stream",
     "text": [
      "1.07175902597e-08\n"
     ]
    }
   ],
   "source": [
    "prob = 1 - (norm.cdf((200-172)/5))\n",
    "print(prob)"
   ]
  },
  {
   "cell_type": "markdown",
   "metadata": {},
   "source": [
    "Using z-table, 200 (2 m) - 172 (mean) = 28, 28 / 5 (standard deviation) = 5.6, a z-score of 5.6 = .9999, 1 - .9999 = .0001 which is not surprising."
   ]
  },
  {
   "cell_type": "markdown",
   "metadata": {},
   "source": [
    "We could calculate this probability by virtue of knowing the population parameters. We were then able to use the known properties of the relevant normal distribution to calculate the probability of observing a value at least as extreme as our test value. We have essentially just performed a z-test (albeit without having prespecified a threshold for our \"level of surprise\")!"
   ]
  },
  {
   "cell_type": "markdown",
   "metadata": {},
   "source": [
    "We're about to come to a pinch, though here. We've said a couple of times that we rarely, if ever, know the true population parameters; we have to estimate them from our sample and we cannot even begin to estimate the standard deviation from a single observation. This is very true and usually we have sample sizes larger than one. This means we can calculate the mean of the sample as our best estimate of the population mean and the standard deviation (careful now! which one?) as our best estimate of the population standard deviation. In other words, we are now coming to deal with the sampling distributions we mentioned above as we are generally concerned with the properties of the sample means we obtain.\n",
    "\n",
    "Above, we highlighted one result from the CLT, whereby the sampling distribution (of the mean) becomes narrower and narrower with the square root of the sample size. We remind ourselves that another result from the CLT is that _even if the underlying population distribution is not normal, the sampling distribution will tend to become normal with sufficiently large sample size_. This is the key driver for us 'requiring' a certain sample size, for example you may frequently see a minimum sample size of 30 stated in many places. In reality this is simply a rule of thumb; if the underlying distribution is approximately normal then your sampling distribution will already be pretty normal, but if the underlying distribution is heavily skewed then you'd want to increase your sample size."
   ]
  },
  {
   "cell_type": "markdown",
   "metadata": {},
   "source": [
    "__Q:__ Let's now start from the position of knowing nothing about the heights of people in our town.\n",
    "* Use our favorite random seed of 47, to randomly sample the heights of 50 townsfolk\n",
    "* Estimate the population mean using np.mean\n",
    "* Estimate the population standard deviation using np.std (remember which denominator to use!)\n",
    "* Calculate the (95%) [margin of error](https://www.statisticshowto.datasciencecentral.com/probability-and-statistics/hypothesis-testing/margin-of-error/#WhatMofE) (use the exact critial z value to 2 decimal places - [look this up](https://www.statisticshowto.datasciencecentral.com/probability-and-statistics/find-critical-values/) or use norm.ppf())\n",
    "* Calculate the 95% Confidence Interval of the mean\n",
    "* Does this interval include the true population mean?"
   ]
  },
  {
   "cell_type": "markdown",
   "metadata": {},
   "source": [
    "__A:__"
   ]
  },
  {
   "cell_type": "code",
   "execution_count": 33,
   "metadata": {
    "collapsed": false
   },
   "outputs": [
    {
     "data": {
      "text/plain": [
       "array([ 179.04949004,  168.54189384,  181.71974048,  176.56433733,\n",
       "        165.91968052,  170.65629646,  179.37664509,  166.40103988,\n",
       "        177.15105034,  169.41097044,  169.96353026,  175.15960886,\n",
       "        177.08203296,  175.57499516,  174.54290109,  172.47967099,\n",
       "        168.61822612,  174.73274884,  170.88926244,  178.27468993,\n",
       "        171.52874629,  173.48970606,  172.0752456 ,  172.29707499,\n",
       "        171.58202648,  169.84480352,  178.67104246,  174.28346436,\n",
       "        174.29645483,  167.42082214,  168.57939161,  169.54392578,\n",
       "        167.58621293,  176.8657094 ,  164.25755366,  177.38929575,\n",
       "        171.97964488,  164.94136054,  177.90675289,  175.2758845 ,\n",
       "        176.64336688,  169.68013675,  175.41851966,  171.9408919 ,\n",
       "        179.69843965,  169.93651872,  169.3320981 ,  172.17010876,\n",
       "        171.18783138,  171.14370134])"
      ]
     },
     "execution_count": 33,
     "metadata": {},
     "output_type": "execute_result"
    }
   ],
   "source": [
    "seed(47)\n",
    "# take your sample now\n",
    "sample = townsfolk_sampler(50)\n",
    "sample"
   ]
  },
  {
   "cell_type": "code",
   "execution_count": 34,
   "metadata": {
    "collapsed": false
   },
   "outputs": [
    {
     "data": {
      "text/plain": [
       "172.7815108576788"
      ]
     },
     "execution_count": 34,
     "metadata": {},
     "output_type": "execute_result"
    }
   ],
   "source": [
    "mean = np.mean(sample)\n",
    "mean"
   ]
  },
  {
   "cell_type": "code",
   "execution_count": 35,
   "metadata": {
    "collapsed": false
   },
   "outputs": [
    {
     "data": {
      "text/plain": [
       "4.1954243644335474"
      ]
     },
     "execution_count": 35,
     "metadata": {},
     "output_type": "execute_result"
    }
   ],
   "source": [
    "std = np.std(sample, ddof=1)\n",
    "std"
   ]
  },
  {
   "cell_type": "code",
   "execution_count": 51,
   "metadata": {
    "collapsed": false
   },
   "outputs": [
    {
     "data": {
      "text/plain": [
       "1.1629123030741191"
      ]
     },
     "execution_count": 51,
     "metadata": {},
     "output_type": "execute_result"
    }
   ],
   "source": [
    "crit = 1.96\n",
    "moe = crit * (std / np.sqrt(50)) # critical value * standard error of sample\n",
    "moe"
   ]
  },
  {
   "cell_type": "code",
   "execution_count": 77,
   "metadata": {
    "collapsed": false
   },
   "outputs": [
    {
     "name": "stdout",
     "output_type": "stream",
     "text": [
      "171.630286412 173.932735303\n"
     ]
    }
   ],
   "source": [
    "print(mean - (1.96 * (std/np.sqrt(50))), mean + (1.96 * (std/np.sqrt(50))))"
   ]
  },
  {
   "cell_type": "markdown",
   "metadata": {},
   "source": [
    "The population mean falls within this interval."
   ]
  },
  {
   "cell_type": "markdown",
   "metadata": {},
   "source": []
  },
  {
   "cell_type": "markdown",
   "metadata": {},
   "source": [
    "__Q:__ Above, you calculated the confidence interval using the critical z value. What is the problem with this? What requirement, or requirements, are we (strictly) failing?"
   ]
  },
  {
   "cell_type": "markdown",
   "metadata": {},
   "source": [
    "__A:__ The population standard deviation is unknown, so a t distribution would be preferred.  "
   ]
  },
  {
   "cell_type": "markdown",
   "metadata": {},
   "source": [
    "__Q:__ Calculate the 95% confidence interval for the mean using the _t_ distribution. Is this wider or narrower than that based on the normal distribution above? If you're unsure, you may find this [resource](https://www.statisticshowto.datasciencecentral.com/probability-and-statistics/confidence-interval/) useful. For calculating the critical value, remember how you could calculate this for the normal distribution using norm.ppf()."
   ]
  },
  {
   "cell_type": "markdown",
   "metadata": {},
   "source": [
    "__A:__"
   ]
  },
  {
   "cell_type": "code",
   "execution_count": 76,
   "metadata": {
    "collapsed": false
   },
   "outputs": [
    {
     "name": "stdout",
     "output_type": "stream",
     "text": [
      "171.601153385 173.96186833\n"
     ]
    }
   ],
   "source": [
    "ddof = 50 - 1\n",
    "alpha = (1-0.95)/2\n",
    "crit = 2.0096 # from ddof and alpha\n",
    "t = crit * (std/np.sqrt(50))\n",
    "print(mean - t, mean + t)"
   ]
  },
  {
   "cell_type": "markdown",
   "metadata": {},
   "source": [
    "The 95% confidence interval for the mean using the t distribution was wider than the previous interval."
   ]
  },
  {
   "cell_type": "markdown",
   "metadata": {},
   "source": [
    "This is slightly wider than the previous confidence interval. This reflects the greater uncertainty given that we are estimating population parameters from a sample."
   ]
  },
  {
   "cell_type": "markdown",
   "metadata": {},
   "source": [
    "## Learning outcomes"
   ]
  },
  {
   "cell_type": "markdown",
   "metadata": {},
   "source": [
    "Having completed this project notebook, you now have hands-on experience:\n",
    "* sampling and calculating probabilities from a normal distribution\n",
    "* the correct way to estimate the standard deviation of a population (the population parameter) from a sample\n",
    "* what a sampling distribution is and how the Central Limit Theorem applies\n",
    "* how to calculate critical values and confidence intervals"
   ]
  }
 ],
 "metadata": {
  "kernelspec": {
   "display_name": "Python 3",
   "language": "python",
   "name": "python3"
  },
  "language_info": {
   "codemirror_mode": {
    "name": "ipython",
    "version": 3
   },
   "file_extension": ".py",
   "mimetype": "text/x-python",
   "name": "python",
   "nbconvert_exporter": "python",
   "pygments_lexer": "ipython3",
   "version": "3.6.0"
  }
 },
 "nbformat": 4,
 "nbformat_minor": 2
}
